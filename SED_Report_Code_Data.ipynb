{
  "nbformat": 4,
  "nbformat_minor": 0,
  "metadata": {
    "colab": {
      "provenance": []
    },
    "kernelspec": {
      "name": "python3",
      "display_name": "Python 3"
    },
    "language_info": {
      "name": "python"
    }
  },
  "cells": [
    {
      "cell_type": "code",
      "execution_count": null,
      "metadata": {
        "id": "glpZxZGS9Xde"
      },
      "outputs": [],
      "source": [
        "#Importing modules\n",
        "import numpy as np\n",
        "import pandas as pd\n",
        "import matplotlib.pyplot as plt\n",
        "from astropy.io.votable import parse\n",
        "from astropy.io.votable import parse_single_table\n",
        "from astropy import constants as const\n",
        "import csv\n",
        "import requests"
      ]
    },
    {
      "cell_type": "code",
      "source": [
        "votable_file_path = 'vizier_votable.vot'\n",
        "#Parsing the VOTable data file\n",
        "votable = parse_single_table(votable_file_path)\n",
        "#Convert data to pandas data fame\n",
        "data=votable.to_table().to_pandas()"
      ],
      "metadata": {
        "id": "H7Jj1R2_DzPw"
      },
      "execution_count": null,
      "outputs": []
    },
    {
      "cell_type": "code",
      "source": [
        "# List of inaccurate catalog names to be removed\n",
        "catalogs_to_exclude = ['SkyMapper', 'XMM', 'GAIA', 'Gaia:G', 'VISTA','GAIA/GAIA2:Grp','GAIA/GAIA2:G','GAIA/GAIA2:Gbp','GAIA/GAIA3:Grp','GAIA/GAIA3:G','GAIA/GAIA3:Gbp','VISTA:Ks','VISTA:Y','VISTA:J','XMM-OT:UVW1','SkyMapper/SkyMapper:z','SkyMapper/SkyMapper:i','SkyMapper/SkyMapper:r','SkyMapper/SkyMapper:g','SkyMapper/SkyMapper:v','SkyMapper/SkyMapper:u']\n",
        "\n",
        "# Use drop to remove rows with inaccurate catalog names\n",
        "reduced_data = data.drop(data[data['sed_filter'].isin(catalogs_to_exclude)].index)\n",
        "\n",
        "# Display the updated DataFrame\n",
        "print(len(reduced_data))\n"
      ],
      "metadata": {
        "colab": {
          "base_uri": "https://localhost:8080/"
        },
        "id": "f4JN6xo2EPPE",
        "outputId": "1f98be50-1341-4586-9228-ccb1c35a845b"
      },
      "execution_count": null,
      "outputs": [
        {
          "output_type": "stream",
          "name": "stdout",
          "text": [
            "211\n"
          ]
        }
      ]
    },
    {
      "cell_type": "code",
      "source": [
        "# Create a copy of the original DataFrame to preserve the reduced data\n",
        "data_1 = reduced_data.copy() # Contains data points that have error ratio greater than 0.5\n",
        "\n",
        "for i in data_1.index:\n",
        "    ratio = data_1.loc[i, 'sed_eflux'] / data_1.loc[i, 'sed_flux']\n",
        "    if ratio > 0.05:\n",
        "        data_1.drop(i, inplace=True)"
      ],
      "metadata": {
        "id": "zFfHCd7rESGx"
      },
      "execution_count": null,
      "outputs": []
    },
    {
      "cell_type": "code",
      "source": [
        "for i in data_1.index:\n",
        "    if data_1.loc[i, 'sed_eflux'] == 0:\n",
        "        data_1.drop(i, inplace=True)"
      ],
      "metadata": {
        "id": "mq2jpER4EToB"
      },
      "execution_count": null,
      "outputs": []
    },
    {
      "cell_type": "code",
      "source": [
        "#Save data_1 as csv\n",
        "final_data = pd.DataFrame(data_1)\n",
        "\n",
        "# Save the DataFrame to a CSV file\n",
        "final_data.to_csv('final_observed_data.csv', index=False)"
      ],
      "metadata": {
        "id": "LQraNoEaEbPl"
      },
      "execution_count": null,
      "outputs": []
    },
    {
      "cell_type": "code",
      "source": [
        "#Model Data\n",
        "\n",
        "url = \"https://wwwuser.oats.inaf.it/fiorella.castelli/grids/gridm10k2odfnew/fm10t8250g10k2odfnew.dat\"\n",
        "output_csv_file = \"model_data.csv\"\n",
        "\n",
        "kurucz_data = pd.read_csv(url, skiprows=1, delim_whitespace=True)\n",
        "\n",
        "kurucz_data.rename(columns={'TITLE': 'x','[-1.0]': 'y','VTURB=2': 'model_wavelength[nm]','L/H=1.25': 'frequency nu [s^-1]',\n",
        "    'NOVER': 'Hnu (erg/cm^2/s/Hz/ster)','NEW': 'Hcont (erg/cm^2/s/Hz/ster)','ODF': 'Hnu/Hcont'}, inplace=True)\n",
        "\n",
        "\n",
        "kurucz_data.to_csv(output_csv_file, index=False)"
      ],
      "metadata": {
        "id": "bTdGSQ_jEdrU"
      },
      "execution_count": null,
      "outputs": []
    },
    {
      "cell_type": "code",
      "source": [
        "dat_file = 'Rv_3_1.dat'\n",
        "# Read the data from the .dat file\n",
        "red_data = pd.read_csv(dat_file, skiprows=3, delim_whitespace=True)\n",
        "red_data['red_wv']=red_data['Angstrom']*0.1\n",
        "red_data.to_csv('red_data.csv', index=False)"
      ],
      "metadata": {
        "id": "JWnDmxqMEyjz"
      },
      "execution_count": null,
      "outputs": []
    },
    {
      "cell_type": "code",
      "source": [
        "#calculating wavelength in nm of observed data\n",
        "c=const.c\n",
        "sed_observed_frequency_ghz=final_data[\"sed_freq\"]\n",
        "final_data['sed_observed_wavelength_nm'] = c / sed_observed_frequency_ghz  # in nm\n",
        "final_data['flux_sed_observed'] = final_data[\"sed_flux\"]*(10**(-23)) #erg/s/cm²/Hz\n",
        "final_data['eflux_sed_observed'] = final_data[\"sed_eflux\"]*(10**(-23)) #erg/s/cm²/Hz\n",
        "final_data['sed_observed_frequency_hz']=final_data[\"sed_freq\"]*(10**9) #in Hz\n",
        "final_data.to_csv('final_observed_data.csv', index=False)"
      ],
      "metadata": {
        "id": "G7Q1wUukFxXs"
      },
      "execution_count": null,
      "outputs": []
    },
    {
      "cell_type": "code",
      "source": [],
      "metadata": {
        "id": "MyTrmcDbQ0SY"
      },
      "execution_count": null,
      "outputs": []
    }
  ]
}